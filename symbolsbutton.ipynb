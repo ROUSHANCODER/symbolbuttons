{
 "cells": [
  {
   "cell_type": "code",
   "execution_count": 84,
   "id": "3bfcf326-9fce-4a23-bdc1-426e588856fe",
   "metadata": {},
   "outputs": [],
   "source": [
    "import tkinter as tk"
   ]
  },
  {
   "cell_type": "code",
   "execution_count": 86,
   "id": "d50f45bd-b51c-4ecc-be8d-9310cd9032b7",
   "metadata": {},
   "outputs": [],
   "source": [
    "# Mapping of keys to corresponding symbols\n",
    "key_to_symbol = {\n",
    "    '0': 'π',       # Pi\n",
    "    '1': 'α',       # Alpha\n",
    "    '2': 'Σ',       # Sigma\n",
    "    '3': 'β',       # Beta\n",
    "    '4': 'γ',       # Gamma\n",
    "    '5': 'sinθ',    # Sine theta\n",
    "    '6': 'cosθ',    # Cosine theta\n",
    "    '7': 'tanθ',    # Tangent theta\n",
    "    '8': 'log',     # Logarithm\n",
    "    '9': '√',       # Square root\n",
    "    '*': '∛',       # Cube root\n",
    "    '#': '∫',       # Integrator\n",
    "}"
   ]
  },
  {
   "cell_type": "code",
   "execution_count": 88,
   "id": "7dd151c6-8018-4859-a3a2-683ca3e5fe1d",
   "metadata": {},
   "outputs": [],
   "source": [
    "# Function to handle both mouse clicks and key presses\n",
    "def on_input(event=None, key=None):\n",
    "    if event:  # Handle keyboard input\n",
    "        key = event.char\n",
    "    symbol = key_to_symbol.get(key, \"Invalid Input\")\n",
    "    result_label.config(text=f\"Result: {symbol}\")"
   ]
  },
  {
   "cell_type": "code",
   "execution_count": 90,
   "id": "3105ffa2-f6e9-402e-b73f-fcee2e0dc8de",
   "metadata": {},
   "outputs": [
    {
     "data": {
      "text/plain": [
       "''"
      ]
     },
     "execution_count": 90,
     "metadata": {},
     "output_type": "execute_result"
    }
   ],
   "source": [
    "# Create the main application window\n",
    "app = tk.Tk()\n",
    "app.title(\"Symbol Keypad\")\n",
    "app.geometry(\"300x400\")"
   ]
  },
  {
   "cell_type": "code",
   "execution_count": 92,
   "id": "4bf2b3f0-973e-4c2f-a9b1-636c395d3d2e",
   "metadata": {},
   "outputs": [
    {
     "data": {
      "text/plain": [
       "'3180736300928on_input'"
      ]
     },
     "execution_count": 92,
     "metadata": {},
     "output_type": "execute_result"
    }
   ],
   "source": [
    "# Bind keyboard events\n",
    "app.bind(\"<Key>\", on_input)\n"
   ]
  },
  {
   "cell_type": "code",
   "execution_count": 94,
   "id": "1e3d832b-1b04-4220-aeca-b4112771a938",
   "metadata": {},
   "outputs": [],
   "source": [
    "# Create a frame for buttons\n",
    "button_frame = tk.Frame(app)\n",
    "button_frame.pack(pady=20)"
   ]
  },
  {
   "cell_type": "code",
   "execution_count": 96,
   "id": "7a2a0b44-be63-4de8-87b6-78d2d665431b",
   "metadata": {},
   "outputs": [],
   "source": [
    "\n",
    "# Create buttons for numbers 1-9\n",
    "for i in range(1, 10):\n",
    "    button = tk.Button(button_frame, text=str(i), width=5, height=2,\n",
    "                       command=lambda num=str(i): on_input(key=num))\n",
    "    button.grid(row=(i-1) // 3, column=(i-1) % 3, padx=5, pady=5)"
   ]
  },
  {
   "cell_type": "code",
   "execution_count": 98,
   "id": "57ff53fa-b48b-474c-8d53-9244bce3f35d",
   "metadata": {},
   "outputs": [],
   "source": [
    "# Add button for '0'\n",
    "button_zero = tk.Button(button_frame, text=\"0\", width=5, height=2,\n",
    "                        command=lambda: on_input(key='0'))\n",
    "button_zero.grid(row=3, column=1, padx=5, pady=5)"
   ]
  },
  {
   "cell_type": "code",
   "execution_count": 100,
   "id": "69b6a162-26e9-4adb-b31b-11062039c3c3",
   "metadata": {},
   "outputs": [],
   "source": [
    "\n",
    "# Add button for '*'\n",
    "button_star = tk.Button(button_frame, text=\"*\", width=5, height=2,\n",
    "                        command=lambda: on_input(key='*'))\n",
    "button_star.grid(row=3, column=0, padx=5, pady=5)\n",
    "\n",
    "# Add button for '#'\n",
    "button_hash = tk.Button(button_frame, text=\"#\", width=5, height=2,\n",
    "                        command=lambda: on_input(key='#'))\n",
    "button_hash.grid(row=3, column=2, padx=5, pady=5)"
   ]
  },
  {
   "cell_type": "code",
   "execution_count": 102,
   "id": "d23eb454-dd86-4c3f-be00-f7ec0c96138e",
   "metadata": {},
   "outputs": [],
   "source": [
    "# Label to display results\n",
    "result_label = tk.Label(app, text=\"Result: \", font=(\"Arial\", 16))\n",
    "result_label.pack(pady=20)\n"
   ]
  },
  {
   "cell_type": "code",
   "execution_count": 104,
   "id": "266f90be-b9b1-4b88-ba32-fc77e83dee49",
   "metadata": {},
   "outputs": [],
   "source": [
    "# Run the application\n",
    "app.mainloop()"
   ]
  },
  {
   "cell_type": "markdown",
   "id": "97561301-9b6d-4d3e-b3ac-860037e273ff",
   "metadata": {},
   "source": [
    "#### "
   ]
  }
 ],
 "metadata": {
  "kernelspec": {
   "display_name": "Python 3 (ipykernel)",
   "language": "python",
   "name": "python3"
  },
  "language_info": {
   "codemirror_mode": {
    "name": "ipython",
    "version": 3
   },
   "file_extension": ".py",
   "mimetype": "text/x-python",
   "name": "python",
   "nbconvert_exporter": "python",
   "pygments_lexer": "ipython3",
   "version": "3.12.4"
  }
 },
 "nbformat": 4,
 "nbformat_minor": 5
}
